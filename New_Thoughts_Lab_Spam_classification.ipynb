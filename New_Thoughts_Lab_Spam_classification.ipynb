{
 "cells": [
  {
   "cell_type": "markdown",
   "metadata": {},
   "source": [
    "# sklearn count vectorizer\n",
    "\n",
    "It tokenize the string and gives an integer ID to each tokern\n",
    "It counts the occurrence of each of those tokens\n",
    "1. It coverts to lower case automatically: **lowercase = True** by default\n",
    "2. It ignores puncutation: **token_pattern**\n",
    "3. It will ignore all words that commonly used like 'am', 'an', 'the', etc if **stop_words='english'**.\n"
   ]
  },
  {
   "cell_type": "markdown",
   "metadata": {},
   "source": [
    "## Turn all to lowercase"
   ]
  },
  {
   "cell_type": "code",
   "execution_count": 13,
   "metadata": {},
   "outputs": [
    {
     "name": "stdout",
     "output_type": "stream",
     "text": [
      "hello! how are you?\n"
     ]
    }
   ],
   "source": [
    "import string\n",
    "str1 = 'Hello! How are you?'\n",
    "str1_lower = str1.lower()\n",
    "print(str1_lower)"
   ]
  },
  {
   "cell_type": "markdown",
   "metadata": {},
   "source": [
    "## Remove punctuation"
   ]
  },
  {
   "cell_type": "code",
   "execution_count": 16,
   "metadata": {},
   "outputs": [
    {
     "name": "stdout",
     "output_type": "stream",
     "text": [
      "hello how are you\n"
     ]
    }
   ],
   "source": [
    "translator = str1_lower.maketrans('', '', string.punctuation)\n",
    "str1_lower = str1_lower.translate(translator)\n",
    "print(str1_lower)"
   ]
  },
  {
   "cell_type": "markdown",
   "metadata": {},
   "source": [
    "## Count the freq. of the words"
   ]
  },
  {
   "cell_type": "code",
   "execution_count": 17,
   "metadata": {},
   "outputs": [
    {
     "name": "stdout",
     "output_type": "stream",
     "text": [
      "Counter({'hello': 1, 'how': 1, 'are': 1, 'you': 1})\n"
     ]
    }
   ],
   "source": [
    "from collections import Counter\n",
    "\n",
    "pre_str = str1_lower.split()\n",
    "count = Counter(pre_str)\n",
    "print(count)"
   ]
  },
  {
   "cell_type": "markdown",
   "metadata": {},
   "source": [
    "## sklearn.feature_extraction.text.CountVectorizer\n",
    "**count_vector.transform(documents) returns a matrix of integers representing the freq of the token words**\n",
    "\n",
    "**It needs to be transformed to an array and then to a dataframe with appropriate column names**\n",
    "\n",
    "**Use x.toarray()**"
   ]
  },
  {
   "cell_type": "markdown",
   "metadata": {},
   "source": [
    "# CountVectorizer()\n",
    "\n",
    "1. count_vector = CountVectorizer()\n",
    "    1. count_vector.fit(documents)\n",
    "    2. count_vector.get_feature_names()\n",
    "    3. count_vector.transform(documents)\n",
    "2. count_vector = CountVectorizer()\n",
    "    1. count_vector.fit_transform(X_train)\n",
    "    2. count_vector.transform(X_test)"
   ]
  },
  {
   "cell_type": "markdown",
   "metadata": {},
   "source": [
    "## Sensitivity and Specificity (denominator is the truth)\n",
    "\n",
    "1. Sensitivity\n",
    "    **probability of detecting sick patient: P(Pos|Sick)**\n",
    "    true positives / (true positives + false negatives)\n",
    "2. Specificity\n",
    "    **probability of claiming healthy person: P(Neg|Healthy)**"
   ]
  },
  {
   "cell_type": "markdown",
   "metadata": {},
   "source": [
    "## Accuracy and Precision \n",
    "1. **Accuracy**: how often the classifier makes the correct prediction: # of correct prediction/ total number\n",
    "2. **Precision (denominator is the prediction)**: true positive / all postives classified\n",
    "    "
   ]
  },
  {
   "cell_type": "code",
   "execution_count": null,
   "metadata": {},
   "outputs": [],
   "source": []
  }
 ],
 "metadata": {
  "kernelspec": {
   "display_name": "Python 3",
   "language": "python",
   "name": "python3"
  },
  "language_info": {
   "codemirror_mode": {
    "name": "ipython",
    "version": 3
   },
   "file_extension": ".py",
   "mimetype": "text/x-python",
   "name": "python",
   "nbconvert_exporter": "python",
   "pygments_lexer": "ipython3",
   "version": "3.7.6"
  }
 },
 "nbformat": 4,
 "nbformat_minor": 4
}
